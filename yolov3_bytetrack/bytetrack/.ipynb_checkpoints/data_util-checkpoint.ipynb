{
 "cells": [
  {
   "cell_type": "code",
   "execution_count": 2,
   "id": "9e89ffe8",
   "metadata": {},
   "outputs": [],
   "source": [
    "def boxes_xycen_to_xywh(image, boxes):\n",
    "    returned_boxes = []\n",
    "    for box in boxes:\n",
    "        box[0] = (box[0] * image.shape[1]).astype(int) \n",
    "        box[1] = (box[1] * image.shape[0]).astype(int)\n",
    "        box[2] = (box[2] * image.shape[1]).astype(int)\n",
    "        box[3] = (box[3] * image.shape[0]).astype(int)\n",
    "        box[0] = int(box[0]-0.5*box[2])\n",
    "        box[1] = int(box[1]-box[3])\n",
    "        box = box.astype(int)\n",
    "        box = box.tolist()\n",
    "        if box != [0,0,0,0]:\n",
    "            returned_boxes.append(box)\n",
    "    return returned_boxes    "
   ]
  }
 ],
 "metadata": {
  "kernelspec": {
   "display_name": "Python 3 (ipykernel)",
   "language": "python",
   "name": "python3"
  },
  "language_info": {
   "codemirror_mode": {
    "name": "ipython",
    "version": 3
   },
   "file_extension": ".py",
   "mimetype": "text/x-python",
   "name": "python",
   "nbconvert_exporter": "python",
   "pygments_lexer": "ipython3",
   "version": "3.10.6"
  }
 },
 "nbformat": 4,
 "nbformat_minor": 5
}
